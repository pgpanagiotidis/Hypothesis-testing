{
  "nbformat": 4,
  "nbformat_minor": 0,
  "metadata": {
    "colab": {
      "name": "Paired Smples T Test.ipynb",
      "provenance": [],
      "authorship_tag": "ABX9TyOsQLWUruU5meqgFBc2KXNP",
      "include_colab_link": true
    },
    "kernelspec": {
      "name": "python3",
      "display_name": "Python 3"
    },
    "language_info": {
      "name": "python"
    }
  },
  "cells": [
    {
      "cell_type": "markdown",
      "metadata": {
        "id": "view-in-github",
        "colab_type": "text"
      },
      "source": [
        "<a href=\"https://colab.research.google.com/github/pgpanagiotidis/Hypothesis-testing/blob/main/Paired_Smples_T_Test.ipynb\" target=\"_parent\"><img src=\"https://colab.research.google.com/assets/colab-badge.svg\" alt=\"Open In Colab\"/></a>"
      ]
    },
    {
      "cell_type": "code",
      "source": [
        "#Generic imports we will need\n",
        "import numpy as np\n",
        "import pandas as pd\n",
        "from matplotlib import pyplot\n",
        "from statsmodels.graphics.gofplots import qqplot\n",
        "from scipy.stats import shapiro\n",
        "from scipy.stats import mannwhitneyu\n",
        "import seaborn as sns\n",
        "from scipy.stats import norm\n",
        "import matplotlib.pyplot as plt\n",
        "from scipy import stats"
      ],
      "metadata": {
        "id": "RqkTH-O_qrok"
      },
      "execution_count": 29,
      "outputs": []
    },
    {
      "cell_type": "code",
      "source": [
        "df_diet = pd.read_csv('stcp-Rdataset-Diet.csv')"
      ],
      "metadata": {
        "id": "rX2MbLzgqrud"
      },
      "execution_count": 4,
      "outputs": []
    },
    {
      "cell_type": "code",
      "source": [
        "print(df_diet.columns)"
      ],
      "metadata": {
        "colab": {
          "base_uri": "https://localhost:8080/"
        },
        "id": "9z64Sr_lqry-",
        "outputId": "a47c973a-7ea2-4990-b917-024344508a39"
      },
      "execution_count": 5,
      "outputs": [
        {
          "output_type": "stream",
          "name": "stdout",
          "text": [
            "Index(['Person', 'gender', 'Age', 'Height', 'pre.weight', 'Diet',\n",
            "       'weight6weeks'],\n",
            "      dtype='object')\n"
          ]
        }
      ]
    },
    {
      "cell_type": "code",
      "source": [
        "#create a column with the differences of the weight before and after the diet\n",
        "df_diet['Diff']=df_diet['pre.weight']-df_diet['weight6weeks']\n",
        "print(df_diet)"
      ],
      "metadata": {
        "colab": {
          "base_uri": "https://localhost:8080/"
        },
        "id": "hr98SH1cq682",
        "outputId": "2dc24683-7247-4712-a369-c81aefc8ee49"
      },
      "execution_count": 6,
      "outputs": [
        {
          "output_type": "stream",
          "name": "stdout",
          "text": [
            "    Person gender  Age  Height  pre.weight  Diet  weight6weeks  Diff\n",
            "0       25          41     171          60     2          60.0   0.0\n",
            "1       26          32     174         103     2         103.0   0.0\n",
            "2        1      0   22     159          58     1          54.2   3.8\n",
            "3        2      0   46     192          60     1          54.0   6.0\n",
            "4        3      0   55     170          64     1          63.3   0.7\n",
            "..     ...    ...  ...     ...         ...   ...           ...   ...\n",
            "73      74      1   35     183          83     3          80.2   2.8\n",
            "74      75      1   49     177          84     3          79.9   4.1\n",
            "75      76      1   28     164          85     3          79.7   5.3\n",
            "76      77      1   40     167          87     3          77.8   9.2\n",
            "77      78      1   51     175          88     3          81.9   6.1\n",
            "\n",
            "[78 rows x 8 columns]\n"
          ]
        }
      ]
    },
    {
      "cell_type": "code",
      "source": [
        "#boxplot for the weight before and after the diet\n",
        "boxplot = df_diet.boxplot(column=[\"pre.weight\", \"weight6weeks\"])"
      ],
      "metadata": {
        "colab": {
          "base_uri": "https://localhost:8080/",
          "height": 265
        },
        "id": "H9rH4evH9PD3",
        "outputId": "b968fb28-3f36-47c4-a3a1-0761add9f6b9"
      },
      "execution_count": 32,
      "outputs": [
        {
          "output_type": "display_data",
          "data": {
            "text/plain": [
              "<Figure size 432x288 with 1 Axes>"
            ],
            "image/png": "[encoded data removed]"
          },
          "metadata": {
            "needs_background": "light"
          }
        }
      ]
    },
    {
      "cell_type": "code",
      "source": [
        "#some descriptive statistics for the column with the differences\n",
        "df_diet['Diff'].describe()"
      ],
      "metadata": {
        "colab": {
          "base_uri": "https://localhost:8080/"
        },
        "id": "muy1RNVTq7IM",
        "outputId": "369ca101-554f-417b-833c-b0cd729e4d0c"
      },
      "execution_count": 7,
      "outputs": [
        {
          "output_type": "execute_result",
          "data": {
            "text/plain": [
              "count    78.000000\n",
              "mean      3.844872\n",
              "std       2.551478\n",
              "min      -2.100000\n",
              "25%       2.000000\n",
              "50%       3.600000\n",
              "75%       5.550000\n",
              "max       9.200000\n",
              "Name: Diff, dtype: float64"
            ]
          },
          "metadata": {},
          "execution_count": 7
        }
      ]
    },
    {
      "cell_type": "code",
      "source": [
        "#checking the Normality of Data for the column with the differences\n",
        "# histogram plot\n",
        "pyplot.hist(df_diet['Diff'])\n",
        "pyplot.show()\n",
        "# q-q plot\n",
        "qqplot(df_diet['Diff'], line='s')\n",
        "pyplot.show()"
      ],
      "metadata": {
        "colab": {
          "base_uri": "https://localhost:8080/",
          "height": 530
        },
        "id": "uT5HMEF1qr4G",
        "outputId": "72766264-d8cf-4962-e660-8e8dbfd1a4d6"
      },
      "execution_count": 8,
      "outputs": [
        {
          "output_type": "display_data",
          "data": {
            "text/plain": [
              "<Figure size 432x288 with 1 Axes>"
            ],
            "image/png": "[encoded data removed]"
          },
          "metadata": {
            "needs_background": "light"
          }
        },
        {
          "output_type": "display_data",
          "data": {
            "text/plain": [
              "<Figure size 432x288 with 1 Axes>"
            ],
            "image/png": "[encoded data removed]"
          },
          "metadata": {
            "needs_background": "light"
          }
        }
      ]
    },
    {
      "cell_type": "code",
      "source": [
        "# Fit a normal distribution to the data for the column with the differences\n",
        "# mean and standard deviation\n",
        "mu, std = norm.fit(df_diet['Diff']) \n",
        "  \n",
        "# Plot the histogram.\n",
        "plt.hist(df_diet['Diff'], bins=25, density=True, alpha=0.6, color='b')\n",
        "  \n",
        "# Plot the PDF.\n",
        "xmin, xmax = plt.xlim()\n",
        "x = np.linspace(xmin, xmax, 100)\n",
        "p = norm.pdf(x, mu, std)\n",
        "  \n",
        "plt.plot(x, p, 'k', linewidth=2)\n",
        "title = \"Fit Values: {:.2f} and {:.2f}\".format(mu, std)\n",
        "plt.title(title)\n",
        "  \n",
        "plt.show()"
      ],
      "metadata": {
        "colab": {
          "base_uri": "https://localhost:8080/",
          "height": 281
        },
        "id": "eGev6V88rQO_",
        "outputId": "6ee4e462-134c-4006-d16b-d17720b10a91"
      },
      "execution_count": 9,
      "outputs": [
        {
          "output_type": "display_data",
          "data": {
            "text/plain": [
              "<Figure size 432x288 with 1 Axes>"
            ],
            "image/png": "[encoded data removed]"
          },
          "metadata": {
            "needs_background": "light"
          }
        }
      ]
    },
    {
      "cell_type": "markdown",
      "source": [
        "There is evidence for the normality, but let's also use statistical Normality Tests."
      ],
      "metadata": {
        "id": "bLz9ePUQsHZs"
      }
    },
    {
      "cell_type": "code",
      "source": [
        "#statistical Normality Tests for the data for the column with the differences\n",
        "#Shapiro-Wilk Test\n",
        "stat, p = shapiro(df_diet['Diff'])\n",
        "print('Statistics=%.3f, p=%.3f' % (stat, p))\n",
        "# interpret\n",
        "alpha = 0.05\n",
        "if p > alpha:\n",
        "\tprint('Sample looks Gaussian (fail to reject H0)')\n",
        "else:\n",
        "\tprint('Sample does not look Gaussian (reject H0)')"
      ],
      "metadata": {
        "colab": {
          "base_uri": "https://localhost:8080/"
        },
        "id": "4wD_20DorQUl",
        "outputId": "cfb34b0f-6b69-4abe-986a-88624121e3dd"
      },
      "execution_count": 10,
      "outputs": [
        {
          "output_type": "stream",
          "name": "stdout",
          "text": [
            "Statistics=0.990, p=0.802\n",
            "Sample looks Gaussian (fail to reject H0)\n"
          ]
        }
      ]
    },
    {
      "cell_type": "markdown",
      "source": [
        "Continue with a parametric test as the assumption of normality is satisfied."
      ],
      "metadata": {
        "id": "zlZRYnWjsKjD"
      }
    },
    {
      "cell_type": "code",
      "source": [
        "#paired sample t-test\n",
        "# H0:μ=0\n",
        "# Ηα:μ in not equal to zero\n",
        "stats.ttest_rel(df_diet['pre.weight'], df_diet['weight6weeks'])"
      ],
      "metadata": {
        "colab": {
          "base_uri": "https://localhost:8080/"
        },
        "id": "tKJPjVczrQfM",
        "outputId": "89575174-e019-43de-f5c5-d7b495b5caed"
      },
      "execution_count": 30,
      "outputs": [
        {
          "output_type": "execute_result",
          "data": {
            "text/plain": [
              "Ttest_relResult(statistic=13.308753851748712, pvalue=1.1722360462415227e-21)"
            ]
          },
          "metadata": {},
          "execution_count": 30
        }
      ]
    },
    {
      "cell_type": "markdown",
      "source": [
        "Because the p-value of our test is smaller than alpha = 0.05, we reject the test's null hypothesis. We have sufficient evidence that the mean of weights' differences is not zero."
      ],
      "metadata": {
        "id": "77XJTzgs_bev"
      }
    },
    {
      "cell_type": "code",
      "source": [
        "#plot the distribution and the median of each group\n",
        "bins = np.linspace(-15, 15, 30)\n",
        "pyplot.hist(df_diet['Diff'], bins, alpha=0.5, label='Differences')\n",
        "plt.axvline(0, color='b', linestyle='dashed', linewidth=1)\n",
        "plt.text(df_diet['Diff'].mean()+0.18,4,'differences mean',rotation=90)\n",
        "plt.axvline(df_diet['Diff'].mean(), color='r', linestyle='dashed', linewidth=1)\n",
        "plt.text(0+0.18,8,'Vertical line to zero',rotation=90)\n",
        "pyplot.legend(loc='upper right')\n",
        "pyplot.show()"
      ],
      "metadata": {
        "colab": {
          "base_uri": "https://localhost:8080/",
          "height": 265
        },
        "id": "cxAFy386rChk",
        "outputId": "de246c58-dac7-4ae6-9003-5282e271d518"
      },
      "execution_count": 28,
      "outputs": [
        {
          "output_type": "display_data",
          "data": {
            "text/plain": [
              "<Figure size 432x288 with 1 Axes>"
            ],
            "image/png": "[encoded data removed]"
          },
          "metadata": {
            "needs_background": "light"
          }
        }
      ]
    },
    {
      "cell_type": "markdown",
      "source": [
        "As we can identify from the plot above, the mean seems to be greater than the zero, so we could say that the diet(s) was successful."
      ],
      "metadata": {
        "id": "PBe8_TYqrlpM"
      }
    }
  ]
}